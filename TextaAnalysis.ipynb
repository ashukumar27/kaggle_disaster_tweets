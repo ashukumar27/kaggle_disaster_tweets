{
 "cells": [
  {
   "cell_type": "markdown",
   "id": "7e990c2b",
   "metadata": {},
   "source": [
    "# Problem Statement\n",
    "\n",
    "The goal of this notebook is to create a deep learning model that can detect which Tweets are about actual disasters and which are not utilising its various techniques.\n",
    "\n",
    "---"
   ]
  },
  {
   "cell_type": "markdown",
   "id": "266863be",
   "metadata": {},
   "source": [
    "## NLP\n",
    "\n",
    "The study of how computers interact with human (natural) languages is known as natural language processing (NLP), and it is a subfield of linguistics, computer science, information engineering, and artificial intelligence. Its focus is on how to program computers to process and analyse large amounts of natural language data.\n",
    "\n",
    "![Benjamin Bannekat](https://static.javatpoint.com/tutorial/nlp/images/what-is-nlp.png)"
   ]
  },
  {
   "cell_type": "markdown",
   "id": "1baab32f",
   "metadata": {},
   "source": [
    "# Importing Libraries"
   ]
  },
  {
   "cell_type": "code",
   "execution_count": 1,
   "id": "af7066ae",
   "metadata": {},
   "outputs": [
    {
     "name": "stderr",
     "output_type": "stream",
     "text": [
      "[nltk_data] Downloading package punkt to\n",
      "[nltk_data]     C:\\Users\\win10\\AppData\\Roaming\\nltk_data...\n",
      "[nltk_data]   Package punkt is already up-to-date!\n",
      "[nltk_data] Downloading package stopwords to\n",
      "[nltk_data]     C:\\Users\\win10\\AppData\\Roaming\\nltk_data...\n",
      "[nltk_data]   Package stopwords is already up-to-date!\n",
      "[nltk_data] Downloading package wordnet to\n",
      "[nltk_data]     C:\\Users\\win10\\AppData\\Roaming\\nltk_data...\n",
      "[nltk_data]   Package wordnet is already up-to-date!\n"
     ]
    }
   ],
   "source": [
    "import pandas as pd\n",
    "import warnings\n",
    "warnings.filterwarnings('ignore')\n",
    "import matplotlib.pyplot as plt\n",
    "import seaborn as sns\n",
    "import re\n",
    "import numpy as np\n",
    "import string\n",
    "import nltk\n",
    "nltk.download('punkt')\n",
    "nltk.download('stopwords')\n",
    "nltk.download('wordnet')\n",
    "from nltk.tokenize import word_tokenize\n",
    "from nltk.stem import WordNetLemmatizer, PorterStemmer\n",
    "from nltk.corpus import stopwords\n",
    "from sklearn.feature_extraction.text import TfidfVectorizer\n",
    "from tensorflow.keras.layers import LSTM, Dense, Embedding, Dropout, GRU\n",
    "from tensorflow.keras.models import Sequential\n",
    "from sklearn.model_selection import train_test_split\n",
    "from tensorflow.keras.preprocessing.text import Tokenizer\n",
    "from tensorflow.keras.preprocessing.sequence import pad_sequences\n",
    "from sklearn.metrics import accuracy_score, classification_report, confusion_matrix"
   ]
  },
  {
   "cell_type": "markdown",
   "id": "4e26a480",
   "metadata": {},
   "source": [
    "# Loading the dataset\n",
    "\n",
    "**Datatset Description**\n",
    "\n",
    "- Size of the train data : 38065\n",
    "- Size of the test data : 13052\n",
    "- Number of rows in train data : 7613\n",
    "- Number of rows in test data : 3263\n",
    "- Column names : id, keyword, location, text and target\n",
    "\n",
    "  1. id - a unique identifier for each tweet\n",
    "  2. text - the text of the tweet\n",
    "  3. location - the location the tweet was sent from (may be blank)\n",
    "  4. keyword - a particular keyword from the tweet (may be blank)\n",
    "  5. target - in train.csv only, this denotes whether a tweet is about a real disaster (1) or not (0)\n",
    "  \n",
    "  \n",
    "- Datatyes :\n",
    "  1. id : int\n",
    "  2. keyword : object\n",
    "  3. location : object\n",
    "  4. text : object \n",
    "  5. target : int\n",
    "  \n"
   ]
  },
  {
   "cell_type": "code",
   "execution_count": 2,
   "id": "f6dd5817",
   "metadata": {},
   "outputs": [],
   "source": [
    "train = pd.read_csv('train.csv')\n",
    "test = pd.read_csv('test.csv')"
   ]
  },
  {
   "cell_type": "markdown",
   "id": "8f559aba",
   "metadata": {},
   "source": [
    "# Exploratory data analysis"
   ]
  },
  {
   "cell_type": "code",
   "execution_count": 3,
   "id": "f72f6cef",
   "metadata": {},
   "outputs": [
    {
     "data": {
      "text/html": [
       "<div>\n",
       "<style scoped>\n",
       "    .dataframe tbody tr th:only-of-type {\n",
       "        vertical-align: middle;\n",
       "    }\n",
       "\n",
       "    .dataframe tbody tr th {\n",
       "        vertical-align: top;\n",
       "    }\n",
       "\n",
       "    .dataframe thead th {\n",
       "        text-align: right;\n",
       "    }\n",
       "</style>\n",
       "<table border=\"1\" class=\"dataframe\">\n",
       "  <thead>\n",
       "    <tr style=\"text-align: right;\">\n",
       "      <th></th>\n",
       "      <th>id</th>\n",
       "      <th>keyword</th>\n",
       "      <th>location</th>\n",
       "      <th>text</th>\n",
       "      <th>target</th>\n",
       "    </tr>\n",
       "  </thead>\n",
       "  <tbody>\n",
       "    <tr>\n",
       "      <th>0</th>\n",
       "      <td>1</td>\n",
       "      <td>NaN</td>\n",
       "      <td>NaN</td>\n",
       "      <td>Our Deeds are the Reason of this #earthquake M...</td>\n",
       "      <td>1</td>\n",
       "    </tr>\n",
       "    <tr>\n",
       "      <th>1</th>\n",
       "      <td>4</td>\n",
       "      <td>NaN</td>\n",
       "      <td>NaN</td>\n",
       "      <td>Forest fire near La Ronge Sask. Canada</td>\n",
       "      <td>1</td>\n",
       "    </tr>\n",
       "    <tr>\n",
       "      <th>2</th>\n",
       "      <td>5</td>\n",
       "      <td>NaN</td>\n",
       "      <td>NaN</td>\n",
       "      <td>All residents asked to 'shelter in place' are ...</td>\n",
       "      <td>1</td>\n",
       "    </tr>\n",
       "    <tr>\n",
       "      <th>3</th>\n",
       "      <td>6</td>\n",
       "      <td>NaN</td>\n",
       "      <td>NaN</td>\n",
       "      <td>13,000 people receive #wildfires evacuation or...</td>\n",
       "      <td>1</td>\n",
       "    </tr>\n",
       "    <tr>\n",
       "      <th>4</th>\n",
       "      <td>7</td>\n",
       "      <td>NaN</td>\n",
       "      <td>NaN</td>\n",
       "      <td>Just got sent this photo from Ruby #Alaska as ...</td>\n",
       "      <td>1</td>\n",
       "    </tr>\n",
       "  </tbody>\n",
       "</table>\n",
       "</div>"
      ],
      "text/plain": [
       "   id keyword location                                               text  \\\n",
       "0   1     NaN      NaN  Our Deeds are the Reason of this #earthquake M...   \n",
       "1   4     NaN      NaN             Forest fire near La Ronge Sask. Canada   \n",
       "2   5     NaN      NaN  All residents asked to 'shelter in place' are ...   \n",
       "3   6     NaN      NaN  13,000 people receive #wildfires evacuation or...   \n",
       "4   7     NaN      NaN  Just got sent this photo from Ruby #Alaska as ...   \n",
       "\n",
       "   target  \n",
       "0       1  \n",
       "1       1  \n",
       "2       1  \n",
       "3       1  \n",
       "4       1  "
      ]
     },
     "execution_count": 3,
     "metadata": {},
     "output_type": "execute_result"
    }
   ],
   "source": [
    "train.head()"
   ]
  },
  {
   "cell_type": "code",
   "execution_count": 4,
   "id": "637f3bee",
   "metadata": {},
   "outputs": [
    {
     "data": {
      "text/html": [
       "<div>\n",
       "<style scoped>\n",
       "    .dataframe tbody tr th:only-of-type {\n",
       "        vertical-align: middle;\n",
       "    }\n",
       "\n",
       "    .dataframe tbody tr th {\n",
       "        vertical-align: top;\n",
       "    }\n",
       "\n",
       "    .dataframe thead th {\n",
       "        text-align: right;\n",
       "    }\n",
       "</style>\n",
       "<table border=\"1\" class=\"dataframe\">\n",
       "  <thead>\n",
       "    <tr style=\"text-align: right;\">\n",
       "      <th></th>\n",
       "      <th>id</th>\n",
       "      <th>keyword</th>\n",
       "      <th>location</th>\n",
       "      <th>text</th>\n",
       "      <th>target</th>\n",
       "    </tr>\n",
       "  </thead>\n",
       "  <tbody>\n",
       "    <tr>\n",
       "      <th>7608</th>\n",
       "      <td>10869</td>\n",
       "      <td>NaN</td>\n",
       "      <td>NaN</td>\n",
       "      <td>Two giant cranes holding a bridge collapse int...</td>\n",
       "      <td>1</td>\n",
       "    </tr>\n",
       "    <tr>\n",
       "      <th>7609</th>\n",
       "      <td>10870</td>\n",
       "      <td>NaN</td>\n",
       "      <td>NaN</td>\n",
       "      <td>@aria_ahrary @TheTawniest The out of control w...</td>\n",
       "      <td>1</td>\n",
       "    </tr>\n",
       "    <tr>\n",
       "      <th>7610</th>\n",
       "      <td>10871</td>\n",
       "      <td>NaN</td>\n",
       "      <td>NaN</td>\n",
       "      <td>M1.94 [01:04 UTC]?5km S of Volcano Hawaii. htt...</td>\n",
       "      <td>1</td>\n",
       "    </tr>\n",
       "    <tr>\n",
       "      <th>7611</th>\n",
       "      <td>10872</td>\n",
       "      <td>NaN</td>\n",
       "      <td>NaN</td>\n",
       "      <td>Police investigating after an e-bike collided ...</td>\n",
       "      <td>1</td>\n",
       "    </tr>\n",
       "    <tr>\n",
       "      <th>7612</th>\n",
       "      <td>10873</td>\n",
       "      <td>NaN</td>\n",
       "      <td>NaN</td>\n",
       "      <td>The Latest: More Homes Razed by Northern Calif...</td>\n",
       "      <td>1</td>\n",
       "    </tr>\n",
       "  </tbody>\n",
       "</table>\n",
       "</div>"
      ],
      "text/plain": [
       "         id keyword location  \\\n",
       "7608  10869     NaN      NaN   \n",
       "7609  10870     NaN      NaN   \n",
       "7610  10871     NaN      NaN   \n",
       "7611  10872     NaN      NaN   \n",
       "7612  10873     NaN      NaN   \n",
       "\n",
       "                                                   text  target  \n",
       "7608  Two giant cranes holding a bridge collapse int...       1  \n",
       "7609  @aria_ahrary @TheTawniest The out of control w...       1  \n",
       "7610  M1.94 [01:04 UTC]?5km S of Volcano Hawaii. htt...       1  \n",
       "7611  Police investigating after an e-bike collided ...       1  \n",
       "7612  The Latest: More Homes Razed by Northern Calif...       1  "
      ]
     },
     "execution_count": 4,
     "metadata": {},
     "output_type": "execute_result"
    }
   ],
   "source": [
    "train.tail()"
   ]
  },
  {
   "cell_type": "code",
   "execution_count": 5,
   "id": "6f9e1f8b",
   "metadata": {},
   "outputs": [
    {
     "data": {
      "text/html": [
       "<div>\n",
       "<style scoped>\n",
       "    .dataframe tbody tr th:only-of-type {\n",
       "        vertical-align: middle;\n",
       "    }\n",
       "\n",
       "    .dataframe tbody tr th {\n",
       "        vertical-align: top;\n",
       "    }\n",
       "\n",
       "    .dataframe thead th {\n",
       "        text-align: right;\n",
       "    }\n",
       "</style>\n",
       "<table border=\"1\" class=\"dataframe\">\n",
       "  <thead>\n",
       "    <tr style=\"text-align: right;\">\n",
       "      <th></th>\n",
       "      <th>id</th>\n",
       "      <th>keyword</th>\n",
       "      <th>location</th>\n",
       "      <th>text</th>\n",
       "    </tr>\n",
       "  </thead>\n",
       "  <tbody>\n",
       "    <tr>\n",
       "      <th>0</th>\n",
       "      <td>0</td>\n",
       "      <td>NaN</td>\n",
       "      <td>NaN</td>\n",
       "      <td>Just happened a terrible car crash</td>\n",
       "    </tr>\n",
       "    <tr>\n",
       "      <th>1</th>\n",
       "      <td>2</td>\n",
       "      <td>NaN</td>\n",
       "      <td>NaN</td>\n",
       "      <td>Heard about #earthquake is different cities, s...</td>\n",
       "    </tr>\n",
       "    <tr>\n",
       "      <th>2</th>\n",
       "      <td>3</td>\n",
       "      <td>NaN</td>\n",
       "      <td>NaN</td>\n",
       "      <td>there is a forest fire at spot pond, geese are...</td>\n",
       "    </tr>\n",
       "    <tr>\n",
       "      <th>3</th>\n",
       "      <td>9</td>\n",
       "      <td>NaN</td>\n",
       "      <td>NaN</td>\n",
       "      <td>Apocalypse lighting. #Spokane #wildfires</td>\n",
       "    </tr>\n",
       "    <tr>\n",
       "      <th>4</th>\n",
       "      <td>11</td>\n",
       "      <td>NaN</td>\n",
       "      <td>NaN</td>\n",
       "      <td>Typhoon Soudelor kills 28 in China and Taiwan</td>\n",
       "    </tr>\n",
       "  </tbody>\n",
       "</table>\n",
       "</div>"
      ],
      "text/plain": [
       "   id keyword location                                               text\n",
       "0   0     NaN      NaN                 Just happened a terrible car crash\n",
       "1   2     NaN      NaN  Heard about #earthquake is different cities, s...\n",
       "2   3     NaN      NaN  there is a forest fire at spot pond, geese are...\n",
       "3   9     NaN      NaN           Apocalypse lighting. #Spokane #wildfires\n",
       "4  11     NaN      NaN      Typhoon Soudelor kills 28 in China and Taiwan"
      ]
     },
     "execution_count": 5,
     "metadata": {},
     "output_type": "execute_result"
    }
   ],
   "source": [
    "test.head()"
   ]
  },
  {
   "cell_type": "code",
   "execution_count": 6,
   "id": "eda6997b",
   "metadata": {},
   "outputs": [
    {
     "name": "stdout",
     "output_type": "stream",
     "text": [
      "Shape of the train data  (7613, 5)\n",
      "Shape of the test data  (3263, 4)\n"
     ]
    }
   ],
   "source": [
    "print('Shape of the train data ',train.shape)\n",
    "print('Shape of the test data ',test.shape)"
   ]
  },
  {
   "cell_type": "code",
   "execution_count": 7,
   "id": "1238567c",
   "metadata": {},
   "outputs": [
    {
     "name": "stdout",
     "output_type": "stream",
     "text": [
      "<class 'pandas.core.frame.DataFrame'>\n",
      "RangeIndex: 7613 entries, 0 to 7612\n",
      "Data columns (total 5 columns):\n",
      " #   Column    Non-Null Count  Dtype \n",
      "---  ------    --------------  ----- \n",
      " 0   id        7613 non-null   int64 \n",
      " 1   keyword   7552 non-null   object\n",
      " 2   location  5080 non-null   object\n",
      " 3   text      7613 non-null   object\n",
      " 4   target    7613 non-null   int64 \n",
      "dtypes: int64(2), object(3)\n",
      "memory usage: 297.5+ KB\n"
     ]
    }
   ],
   "source": [
    "train.info()"
   ]
  },
  {
   "cell_type": "code",
   "execution_count": 8,
   "id": "57b80cba",
   "metadata": {},
   "outputs": [
    {
     "name": "stdout",
     "output_type": "stream",
     "text": [
      "Size of the train data  38065\n",
      "Size of the test data  13052\n"
     ]
    }
   ],
   "source": [
    "print('Size of the train data ',train.size)\n",
    "print('Size of the test data ',test.size)"
   ]
  },
  {
   "cell_type": "code",
   "execution_count": 9,
   "id": "873cb9f8",
   "metadata": {},
   "outputs": [
    {
     "data": {
      "text/plain": [
       "0    4342\n",
       "1    3271\n",
       "Name: target, dtype: int64"
      ]
     },
     "execution_count": 9,
     "metadata": {},
     "output_type": "execute_result"
    }
   ],
   "source": [
    "train['target'].value_counts()"
   ]
  },
  {
   "cell_type": "code",
   "execution_count": 10,
   "id": "e9742977",
   "metadata": {},
   "outputs": [
    {
     "data": {
      "image/png": "[encoded data removed]",
      "text/plain": [
       "<Figure size 432x288 with 1 Axes>"
      ]
     },
     "metadata": {
      "needs_background": "light"
     },
     "output_type": "display_data"
    }
   ],
   "source": [
    "target=train['target'].value_counts()\n",
    "sns.barplot(target.index,target,edgecolor=(0,0,0),linewidth=1.5, palette = ['#87ace8','#e3784d'])\n",
    "plt.title('Comparing disaster tweets and non disaster tweets',fontsize=15)\n",
    "plt.xticks(fontsize=20)\n",
    "plt.ylabel('Samples',fontsize=15)\n",
    "plt.show()"
   ]
  },
  {
   "cell_type": "code",
   "execution_count": 11,
   "id": "1fb1dd77",
   "metadata": {},
   "outputs": [
    {
     "data": {
      "image/png": "[encoded data removed]",
      "text/plain": [
       "<Figure size 720x360 with 2 Axes>"
      ]
     },
     "metadata": {
      "needs_background": "light"
     },
     "output_type": "display_data"
    }
   ],
   "source": [
    "fig,(ax1,ax2)=plt.subplots(1,2,figsize=(10,5))\n",
    "tweet_len=train[train['target']==1]['text'].str.len()\n",
    "ax1.hist(tweet_len,color='#87ace8', edgecolor ='k')\n",
    "ax1.set_title('disaster tweets')\n",
    "tweet_len=train[train['target']==0]['text'].str.len()\n",
    "ax2.hist(tweet_len,color='#e3784d', edgecolor ='k')\n",
    "ax2.set_title('Not disaster tweets')\n",
    "fig.suptitle('Characters in tweets',fontsize=20)\n",
    "\n",
    "plt.show()"
   ]
  },
  {
   "cell_type": "code",
   "execution_count": 12,
   "id": "99359c70",
   "metadata": {},
   "outputs": [
    {
     "data": {
      "image/png": "[encoded data removed]",
      "text/plain": [
       "<Figure size 720x360 with 2 Axes>"
      ]
     },
     "metadata": {
      "needs_background": "light"
     },
     "output_type": "display_data"
    }
   ],
   "source": [
    "fig,(ax1,ax2)=plt.subplots(1,2,figsize=(10,5))\n",
    "tweet_len=train[train['target']==1]['text'].str.split().map(lambda x: len(x))\n",
    "ax1.hist(tweet_len,color='#87ace8', edgecolor ='k')\n",
    "ax1.set_title('disaster tweets')\n",
    "tweet_len=train[train['target']==0]['text'].str.split().map(lambda x: len(x))\n",
    "ax2.hist(tweet_len,color='#e3784d', edgecolor ='k')\n",
    "ax2.set_title('Not disaster tweets')\n",
    "fig.suptitle('Words in a tweets',fontsize=20)\n",
    "plt.show()"
   ]
  },
  {
   "cell_type": "code",
   "execution_count": 13,
   "id": "71057e9d",
   "metadata": {},
   "outputs": [
    {
     "data": {
      "image/png": "[encoded data removed]",
      "text/plain": [
       "<Figure size 1440x576 with 2 Axes>"
      ]
     },
     "metadata": {
      "needs_background": "light"
     },
     "output_type": "display_data"
    }
   ],
   "source": [
    "disaster_keywords = train.loc[train[\"target\"] == 1][\"keyword\"].value_counts()\n",
    "non_disaster_keywords = train.loc[train[\"target\"] == 0][\"keyword\"].value_counts()\n",
    "\n",
    "fig, ax = plt.subplots(1,2, figsize=(20,8))\n",
    "ax1 = sns.barplot(y=disaster_keywords[0:10].index, x=disaster_keywords[0:10], orient='h', ax=ax[0], color='#87ace8', edgecolor ='k')\n",
    "for container in ax1.containers:\n",
    "    ax1.bar_label(container)\n",
    "ax[0].set_title(\"Disaster Tweets : Top 10 Keywords\",fontsize=20)\n",
    "ax[0].set_xlabel(\"Keyword Frequency\")\n",
    "for tick in ax[0].xaxis.get_major_ticks():\n",
    "    tick.label.set_fontsize(15) \n",
    "for tick in ax[0].yaxis.get_major_ticks():\n",
    "    tick.label.set_fontsize(15) \n",
    "    \n",
    "    \n",
    "ax2 = sns.barplot(y=non_disaster_keywords[0:10].index, x= non_disaster_keywords[0:10], orient='h', ax=ax[1], color='#e3784d', edgecolor ='k')\n",
    "for container in ax2.containers:\n",
    "    ax2.bar_label(container)\n",
    "ax[1].set_title(\"Non-Disaster Tweets : Top 10 Keywords\",fontsize=20)\n",
    "ax[1].set_xlabel(\"Keyword Frequency\")\n",
    "for tick in ax[1].xaxis.get_major_ticks():\n",
    "    tick.label.set_fontsize(15) \n",
    "for tick in ax[1].yaxis.get_major_ticks():\n",
    "    tick.label.set_fontsize(15) \n",
    "plt.tight_layout()\n",
    "plt.show()"
   ]
  },
  {
   "cell_type": "code",
   "execution_count": 14,
   "id": "a7392d81",
   "metadata": {},
   "outputs": [
    {
     "data": {
      "image/png": "[encoded data removed]",
      "text/plain": [
       "<Figure size 1440x576 with 2 Axes>"
      ]
     },
     "metadata": {
      "needs_background": "light"
     },
     "output_type": "display_data"
    }
   ],
   "source": [
    "disaster_keywords = train.loc[train[\"target\"] == 1][\"location\"].value_counts()\n",
    "non_disaster_keywords = train.loc[train[\"target\"] == 0][\"location\"].value_counts()\n",
    "\n",
    "fig, ax = plt.subplots(1,2, figsize=(20,8))\n",
    "ax1 = sns.barplot(y=disaster_keywords[0:10].index, x=disaster_keywords[0:10], ax=ax[0], color='#87ace8', edgecolor ='k')\n",
    "for container in ax1.containers:\n",
    "    ax1.bar_label(container)\n",
    "ax[0].set_title(\"Disaster Tweets : Top 10 Location\",fontsize=20)\n",
    "ax[0].set_xlabel(\"Keyword Frequency\")\n",
    "for tick in ax[0].xaxis.get_major_ticks():\n",
    "    tick.label.set_fontsize(15) \n",
    "for tick in ax[0].yaxis.get_major_ticks():\n",
    "    tick.label.set_fontsize(15) \n",
    "    \n",
    "    \n",
    "ax2 = sns.barplot(y=non_disaster_keywords[0:10].index, x= non_disaster_keywords[0:10],ax=ax[1], color='#e3784d', edgecolor ='k')\n",
    "for container in ax2.containers:\n",
    "    ax2.bar_label(container)\n",
    "ax[1].set_title(\"Non-Disaster Tweets : Top 10 Location\",fontsize=20)\n",
    "ax[1].set_xlabel(\"Keyword Frequency\")\n",
    "for tick in ax[1].xaxis.get_major_ticks():\n",
    "    tick.label.set_fontsize(15) \n",
    "for tick in ax[1].yaxis.get_major_ticks():\n",
    "    tick.label.set_fontsize(15) \n",
    "plt.tight_layout()\n",
    "plt.show()"
   ]
  },
  {
   "cell_type": "markdown",
   "id": "0485b61d",
   "metadata": {},
   "source": [
    "# Data Cleaning\n",
    "\n",
    "**The text column in our dataset contains hyperlinks, punctuation, stop words, numbers. So we have to remove all these using text processing. After this as the data is in the text form, we need to preprocess the texual data and performed the following steps:**\n",
    "\n",
    "1- Removing URLS\n",
    "\n",
    "2- Removing Punctuation\n",
    "\n",
    "3- Tokenization (Tokenization is the first step in NLP. It is the process of breaking strings into tokens which in turn are small structures or units. Tokenization involves three steps which are breaking a complex sentence into words, understanding the importance of each word with respect to the sentence and finally produce structural description on an input sentence.)\n",
    "\n",
    "4- Removing stopwords (Stop words are the most common words in a language like “the”, “a”, “at”, “for”, “above”, “on”, “is”, “all”. These words do not provide any meaning and are usually removed from texts. We can remove these stop words using nltk library)\n",
    "\n",
    "5- Lemmatizing (In simpler terms, it is the process of converting a word to its base form. The difference between stemming and lemmatization is, lemmatization considers the context and converts the word to its meaningful base form, whereas stemming just removes the last few characters, often leading to incorrect meanings and spelling errors.)\n",
    "\n",
    "6- Combiningthe tokenized text into final sentence."
   ]
  },
  {
   "cell_type": "code",
   "execution_count": 15,
   "id": "6df3a02a",
   "metadata": {},
   "outputs": [],
   "source": [
    "# Defining different functions to clean and preprocess the text data \n",
    "\n",
    "def remove_urls(text):\n",
    "    url_pattern = re.compile(r'https?://\\S+|www\\.\\S+')\n",
    "    return url_pattern.sub(r'', text)\n",
    "\n",
    "def remove_punctuation(text):\n",
    "    PUNCT_TO_REMOVE = string.punctuation\n",
    "    return text.translate(str.maketrans('', '', PUNCT_TO_REMOVE))\n",
    "\n",
    "def remove_stopwords(words):\n",
    "    stop_words=set(stopwords.words('english'))\n",
    "    return [word for word in words if word not in stop_words]\n",
    "\n",
    "\n",
    "def lemmatizing(words):\n",
    "    lemmatizer = WordNetLemmatizer()\n",
    "    return [lemmatizer.lemmatize(word) for word in words]\n",
    "\n",
    "def final_text(words):\n",
    "    return ' '.join(words)\n",
    "\n",
    "def preprocess_data(dataframe):\n",
    "    dataframe[\"text\"] = dataframe[\"text\"].str.lower()\n",
    "\n",
    "    dataframe[\"text\"] = dataframe[\"text\"].apply(lambda text: remove_urls(text))\n",
    "\n",
    "    dataframe[\"text\"] = dataframe[\"text\"].apply(lambda text: remove_punctuation(text))\n",
    "\n",
    "    dataframe['text']=dataframe['text'].apply(str)\n",
    "\n",
    "    dataframe['text']=dataframe['text'].apply(lambda x:word_tokenize(x))\n",
    "    dataframe['text']=dataframe['text'].apply(lambda x: remove_stopwords(x))\n",
    "\n",
    "    dataframe['text']=dataframe['text'].apply(lambda x: lemmatizing(x))\n",
    "    \n",
    "    dataframe['text']=dataframe['text'].apply(lambda x:final_text(x))\n",
    "    \n",
    "    return dataframe"
   ]
  },
  {
   "cell_type": "code",
   "execution_count": 16,
   "id": "5f771d25",
   "metadata": {},
   "outputs": [
    {
     "data": {
      "text/html": [
       "<div>\n",
       "<style scoped>\n",
       "    .dataframe tbody tr th:only-of-type {\n",
       "        vertical-align: middle;\n",
       "    }\n",
       "\n",
       "    .dataframe tbody tr th {\n",
       "        vertical-align: top;\n",
       "    }\n",
       "\n",
       "    .dataframe thead th {\n",
       "        text-align: right;\n",
       "    }\n",
       "</style>\n",
       "<table border=\"1\" class=\"dataframe\">\n",
       "  <thead>\n",
       "    <tr style=\"text-align: right;\">\n",
       "      <th></th>\n",
       "      <th>id</th>\n",
       "      <th>keyword</th>\n",
       "      <th>location</th>\n",
       "      <th>text</th>\n",
       "      <th>target</th>\n",
       "    </tr>\n",
       "  </thead>\n",
       "  <tbody>\n",
       "    <tr>\n",
       "      <th>0</th>\n",
       "      <td>1</td>\n",
       "      <td>NaN</td>\n",
       "      <td>NaN</td>\n",
       "      <td>deed reason earthquake may allah forgive u</td>\n",
       "      <td>1</td>\n",
       "    </tr>\n",
       "    <tr>\n",
       "      <th>1</th>\n",
       "      <td>4</td>\n",
       "      <td>NaN</td>\n",
       "      <td>NaN</td>\n",
       "      <td>forest fire near la ronge sask canada</td>\n",
       "      <td>1</td>\n",
       "    </tr>\n",
       "    <tr>\n",
       "      <th>2</th>\n",
       "      <td>5</td>\n",
       "      <td>NaN</td>\n",
       "      <td>NaN</td>\n",
       "      <td>resident asked shelter place notified officer ...</td>\n",
       "      <td>1</td>\n",
       "    </tr>\n",
       "    <tr>\n",
       "      <th>3</th>\n",
       "      <td>6</td>\n",
       "      <td>NaN</td>\n",
       "      <td>NaN</td>\n",
       "      <td>13000 people receive wildfire evacuation order...</td>\n",
       "      <td>1</td>\n",
       "    </tr>\n",
       "    <tr>\n",
       "      <th>4</th>\n",
       "      <td>7</td>\n",
       "      <td>NaN</td>\n",
       "      <td>NaN</td>\n",
       "      <td>got sent photo ruby alaska smoke wildfire pour...</td>\n",
       "      <td>1</td>\n",
       "    </tr>\n",
       "    <tr>\n",
       "      <th>...</th>\n",
       "      <td>...</td>\n",
       "      <td>...</td>\n",
       "      <td>...</td>\n",
       "      <td>...</td>\n",
       "      <td>...</td>\n",
       "    </tr>\n",
       "    <tr>\n",
       "      <th>7608</th>\n",
       "      <td>10869</td>\n",
       "      <td>NaN</td>\n",
       "      <td>NaN</td>\n",
       "      <td>two giant crane holding bridge collapse nearby...</td>\n",
       "      <td>1</td>\n",
       "    </tr>\n",
       "    <tr>\n",
       "      <th>7609</th>\n",
       "      <td>10870</td>\n",
       "      <td>NaN</td>\n",
       "      <td>NaN</td>\n",
       "      <td>ariaahrary thetawniest control wild fire calif...</td>\n",
       "      <td>1</td>\n",
       "    </tr>\n",
       "    <tr>\n",
       "      <th>7610</th>\n",
       "      <td>10871</td>\n",
       "      <td>NaN</td>\n",
       "      <td>NaN</td>\n",
       "      <td>m194 0104 utc5km volcano hawaii</td>\n",
       "      <td>1</td>\n",
       "    </tr>\n",
       "    <tr>\n",
       "      <th>7611</th>\n",
       "      <td>10872</td>\n",
       "      <td>NaN</td>\n",
       "      <td>NaN</td>\n",
       "      <td>police investigating ebike collided car little...</td>\n",
       "      <td>1</td>\n",
       "    </tr>\n",
       "    <tr>\n",
       "      <th>7612</th>\n",
       "      <td>10873</td>\n",
       "      <td>NaN</td>\n",
       "      <td>NaN</td>\n",
       "      <td>latest home razed northern california wildfire...</td>\n",
       "      <td>1</td>\n",
       "    </tr>\n",
       "  </tbody>\n",
       "</table>\n",
       "<p>7613 rows × 5 columns</p>\n",
       "</div>"
      ],
      "text/plain": [
       "         id keyword location  \\\n",
       "0         1     NaN      NaN   \n",
       "1         4     NaN      NaN   \n",
       "2         5     NaN      NaN   \n",
       "3         6     NaN      NaN   \n",
       "4         7     NaN      NaN   \n",
       "...     ...     ...      ...   \n",
       "7608  10869     NaN      NaN   \n",
       "7609  10870     NaN      NaN   \n",
       "7610  10871     NaN      NaN   \n",
       "7611  10872     NaN      NaN   \n",
       "7612  10873     NaN      NaN   \n",
       "\n",
       "                                                   text  target  \n",
       "0            deed reason earthquake may allah forgive u       1  \n",
       "1                 forest fire near la ronge sask canada       1  \n",
       "2     resident asked shelter place notified officer ...       1  \n",
       "3     13000 people receive wildfire evacuation order...       1  \n",
       "4     got sent photo ruby alaska smoke wildfire pour...       1  \n",
       "...                                                 ...     ...  \n",
       "7608  two giant crane holding bridge collapse nearby...       1  \n",
       "7609  ariaahrary thetawniest control wild fire calif...       1  \n",
       "7610                    m194 0104 utc5km volcano hawaii       1  \n",
       "7611  police investigating ebike collided car little...       1  \n",
       "7612  latest home razed northern california wildfire...       1  \n",
       "\n",
       "[7613 rows x 5 columns]"
      ]
     },
     "execution_count": 16,
     "metadata": {},
     "output_type": "execute_result"
    }
   ],
   "source": [
    "# preprocess and clean the train data \n",
    "preprocess_data(train)"
   ]
  },
  {
   "cell_type": "markdown",
   "id": "3de5dc64",
   "metadata": {},
   "source": [
    "# Feature Extraction\n",
    "\n",
    "The words need to be encoded as integers or floating point values for use as input to a machine learning algorithm, called feature extraction (or vectorization).\n",
    "\n",
    "The scikit-learn library offers easy-to-use tools to perform both tokenization and feature extraction of your text data. We have used TF-IDF vectorizer, Term frequency-inverse document frequency is a text vectorizer that transforms the text into a usable vector. It combines 2 concepts, Term Frequency (TF) and Document Frequency (DF). The term frequency is the number of occurrences of a specific term in a document."
   ]
  },
  {
   "cell_type": "code",
   "execution_count": 17,
   "id": "8f319ab6",
   "metadata": {},
   "outputs": [],
   "source": [
    "# Initializing the TF-IDF vectorizer\n",
    "\n",
    "vect=TfidfVectorizer(min_df=2\n",
    "                      ,max_features = None,analyzer=\"word\",  ngram_range=(1,2) \n",
    "                           ).fit(train['text'])\n",
    "x_train_vect=vect.transform(train['text'])\n",
    "\n",
    "y = train[['target']]\n",
    "\n",
    "# Splitting the dataset into train, test data\n",
    "max_features=4000\n",
    "tokenizer=Tokenizer(num_words=max_features,split=' ')\n",
    "tokenizer.fit_on_texts(train['text'].values)\n",
    "X = tokenizer.texts_to_sequences(train['text'].values)\n",
    "X = pad_sequences(X)\n",
    "X_train, X_test, y_train, y_test = train_test_split(X,y, test_size = 0.2, random_state =42)\n",
    "\n"
   ]
  },
  {
   "cell_type": "markdown",
   "id": "4e461f4e",
   "metadata": {},
   "source": [
    "# Model Building\n",
    "\n",
    "**Model Architecture**\n",
    "\n",
    "We have used sequential model and added the LSTM layer in it with 32 neurons and activation function as relu and a dropout of 0.2. The input length is the length of all the features in the X_train. The output layer contains one neuron only with sigmoid as activation function as the output is in binary form. Optimizer used for the model is adam and loss is binary_crossentropy."
   ]
  },
  {
   "cell_type": "code",
   "execution_count": 18,
   "id": "09f2e951",
   "metadata": {},
   "outputs": [
    {
     "name": "stdout",
     "output_type": "stream",
     "text": [
      "Model: \"sequential\"\n",
      "_________________________________________________________________\n",
      " Layer (type)                Output Shape              Param #   \n",
      "=================================================================\n",
      " embedding (Embedding)       (None, 21, 32)            128000    \n",
      "                                                                 \n",
      " dropout (Dropout)           (None, 21, 32)            0         \n",
      "                                                                 \n",
      " lstm (LSTM)                 (None, 32)                8320      \n",
      "                                                                 \n",
      " dense (Dense)               (None, 1)                 33        \n",
      "                                                                 \n",
      "=================================================================\n",
      "Total params: 136,353\n",
      "Trainable params: 136,353\n",
      "Non-trainable params: 0\n",
      "_________________________________________________________________\n",
      "None\n"
     ]
    }
   ],
   "source": [
    "\n",
    "embed_dim = 32\n",
    "lstm_out = 32\n",
    "\n",
    "# Initializing model\n",
    "model_1 = Sequential()\n",
    "model_1.add(Embedding(max_features, embed_dim,input_length = X.shape[1]))\n",
    "model_1.add(Dropout(0.2))\n",
    "\n",
    "# input layer and LSTM layer with 32 neurons\n",
    "model_1.add(LSTM(lstm_out, dropout=0.2,activation = 'relu'))\n",
    "\n",
    "# output layer with sigmoid activation\n",
    "model_1.add(Dense(1,activation='sigmoid'))\n",
    "\n",
    "model_1.compile(loss='binary_crossentropy',optimizer='adam',metrics=['accuracy'])\n",
    "print(model_1.summary())"
   ]
  },
  {
   "cell_type": "code",
   "execution_count": 19,
   "id": "46a8b7b0",
   "metadata": {},
   "outputs": [
    {
     "name": "stdout",
     "output_type": "stream",
     "text": [
      "Epoch 1/10\n",
      "191/191 [==============================] - 2s 7ms/step - loss: 0.6042 - accuracy: 0.6573 - val_loss: 0.4727 - val_accuracy: 0.7958\n",
      "Epoch 2/10\n",
      "191/191 [==============================] - 1s 6ms/step - loss: 0.3986 - accuracy: 0.8286 - val_loss: 0.4388 - val_accuracy: 0.8037\n",
      "Epoch 3/10\n",
      "191/191 [==============================] - 1s 6ms/step - loss: 0.3345 - accuracy: 0.8608 - val_loss: 0.4783 - val_accuracy: 0.7846\n",
      "Epoch 4/10\n",
      "191/191 [==============================] - 1s 6ms/step - loss: 0.2880 - accuracy: 0.8833 - val_loss: 0.5056 - val_accuracy: 0.7899\n",
      "Epoch 5/10\n",
      "191/191 [==============================] - 1s 6ms/step - loss: 0.2544 - accuracy: 0.8992 - val_loss: 0.5350 - val_accuracy: 0.7794\n",
      "Epoch 6/10\n",
      "191/191 [==============================] - 1s 6ms/step - loss: 0.2257 - accuracy: 0.9095 - val_loss: 0.7032 - val_accuracy: 0.7781\n",
      "Epoch 7/10\n",
      "191/191 [==============================] - 1s 6ms/step - loss: 0.1979 - accuracy: 0.9187 - val_loss: 0.6638 - val_accuracy: 0.7656\n",
      "Epoch 8/10\n",
      "191/191 [==============================] - 1s 6ms/step - loss: 0.1796 - accuracy: 0.9282 - val_loss: 0.9195 - val_accuracy: 0.7557\n",
      "Epoch 9/10\n",
      "191/191 [==============================] - 1s 6ms/step - loss: 0.1809 - accuracy: 0.9314 - val_loss: 0.9062 - val_accuracy: 0.7544\n",
      "Epoch 10/10\n",
      "191/191 [==============================] - 1s 6ms/step - loss: 0.1846 - accuracy: 0.9266 - val_loss: 0.7732 - val_accuracy: 0.7374\n"
     ]
    }
   ],
   "source": [
    "# training the model on training dataset\n",
    "history1 = model_1.fit(X_train, y_train, epochs = 10, batch_size=32, validation_data=(X_test, y_test))"
   ]
  },
  {
   "cell_type": "code",
   "execution_count": 20,
   "id": "dd49c781",
   "metadata": {},
   "outputs": [
    {
     "name": "stdout",
     "output_type": "stream",
     "text": [
      "48/48 [==============================] - 0s 2ms/step\n",
      "Accuracy :  73.74\n",
      "--------------------------------------------------\n",
      "Classification report : \n",
      "              precision    recall  f1-score   support\n",
      "\n",
      "           0       0.78      0.76      0.77       874\n",
      "           1       0.69      0.71      0.70       649\n",
      "\n",
      "    accuracy                           0.74      1523\n",
      "   macro avg       0.73      0.73      0.73      1523\n",
      "weighted avg       0.74      0.74      0.74      1523\n",
      "\n",
      "--------------------------------------------------\n",
      "Confusion matrix\n",
      "[[663 211]\n",
      " [189 460]]\n"
     ]
    }
   ],
   "source": [
    "# Model evaluation\n",
    "predictions = model_1.predict(X_test)\n",
    "prediction = []\n",
    "for i in predictions:\n",
    "    if i[0]>0.5:\n",
    "        prediction.append(1)\n",
    "    else:\n",
    "        prediction.append(0)\n",
    "    \n",
    "acc_1 = round(accuracy_score(y_test, prediction)*100, 2)\n",
    "print('Accuracy : ', acc_1)\n",
    "print('-'*50)\n",
    "print('Classification report : ')\n",
    "print(classification_report(y_test, prediction))\n",
    "print('-'*50)\n",
    "print('Confusion matrix')\n",
    "print(confusion_matrix(y_test, prediction))"
   ]
  },
  {
   "cell_type": "markdown",
   "id": "79a35d0a",
   "metadata": {},
   "source": [
    "# Hyperparameter Tuning"
   ]
  },
  {
   "cell_type": "code",
   "execution_count": 21,
   "id": "1b1d471e",
   "metadata": {},
   "outputs": [
    {
     "name": "stdout",
     "output_type": "stream",
     "text": [
      "Model: \"sequential_1\"\n",
      "_________________________________________________________________\n",
      " Layer (type)                Output Shape              Param #   \n",
      "=================================================================\n",
      " embedding_1 (Embedding)     (None, 21, 64)            256000    \n",
      "                                                                 \n",
      " dropout_1 (Dropout)         (None, 21, 64)            0         \n",
      "                                                                 \n",
      " lstm_1 (LSTM)               (None, 64)                33024     \n",
      "                                                                 \n",
      " dense_1 (Dense)             (None, 32)                2080      \n",
      "                                                                 \n",
      " dense_2 (Dense)             (None, 1)                 33        \n",
      "                                                                 \n",
      "=================================================================\n",
      "Total params: 291,137\n",
      "Trainable params: 291,137\n",
      "Non-trainable params: 0\n",
      "_________________________________________________________________\n",
      "None\n"
     ]
    }
   ],
   "source": [
    "\n",
    "embed_dim = 64\n",
    "lstm_out = 64\n",
    "\n",
    "# Initializing model\n",
    "model_2 = Sequential()\n",
    "model_2.add(Embedding(max_features, embed_dim,input_length = X.shape[1]))\n",
    "model_2.add(Dropout(0.2))\n",
    "\n",
    "# input layer and LSTM layer with 64 neurons\n",
    "model_2.add(LSTM(lstm_out, dropout=0.2,activation = 'tanh'))\n",
    "\n",
    "model_2.add(Dense(32, activation = 'tanh'))\n",
    "# output layer with sigmoid activation\n",
    "model_2.add(Dense(1,activation='sigmoid'))\n",
    "\n",
    "model_2.compile(loss='binary_crossentropy',optimizer='rmsprop',metrics=['accuracy'])\n",
    "print(model_2.summary())"
   ]
  },
  {
   "cell_type": "code",
   "execution_count": 22,
   "id": "b828bfe9",
   "metadata": {},
   "outputs": [
    {
     "name": "stdout",
     "output_type": "stream",
     "text": [
      "Epoch 1/10\n",
      "191/191 [==============================] - 3s 10ms/step - loss: 0.5449 - accuracy: 0.7258 - val_loss: 0.4546 - val_accuracy: 0.7912\n",
      "Epoch 2/10\n",
      "191/191 [==============================] - 1s 7ms/step - loss: 0.3930 - accuracy: 0.8294 - val_loss: 0.4542 - val_accuracy: 0.7905\n",
      "Epoch 3/10\n",
      "191/191 [==============================] - 1s 7ms/step - loss: 0.3593 - accuracy: 0.8452 - val_loss: 0.4662 - val_accuracy: 0.7912\n",
      "Epoch 4/10\n",
      "191/191 [==============================] - 1s 7ms/step - loss: 0.3388 - accuracy: 0.8608 - val_loss: 0.4709 - val_accuracy: 0.7905\n",
      "Epoch 5/10\n",
      "191/191 [==============================] - 1s 8ms/step - loss: 0.3289 - accuracy: 0.8632 - val_loss: 0.4753 - val_accuracy: 0.8024\n",
      "Epoch 6/10\n",
      "191/191 [==============================] - 1s 8ms/step - loss: 0.3183 - accuracy: 0.8711 - val_loss: 0.4779 - val_accuracy: 0.7873\n",
      "Epoch 7/10\n",
      "191/191 [==============================] - 1s 8ms/step - loss: 0.3094 - accuracy: 0.8714 - val_loss: 0.4901 - val_accuracy: 0.7886\n",
      "Epoch 8/10\n",
      "191/191 [==============================] - 1s 7ms/step - loss: 0.3042 - accuracy: 0.8796 - val_loss: 0.5005 - val_accuracy: 0.7905\n",
      "Epoch 9/10\n",
      "191/191 [==============================] - 1s 8ms/step - loss: 0.2917 - accuracy: 0.8833 - val_loss: 0.4925 - val_accuracy: 0.7781\n",
      "Epoch 10/10\n",
      "191/191 [==============================] - 1s 8ms/step - loss: 0.2808 - accuracy: 0.8878 - val_loss: 0.5679 - val_accuracy: 0.7800\n"
     ]
    }
   ],
   "source": [
    "# training the model on training dataset\n",
    "history2 = model_2.fit(X_train, y_train, epochs = 10, batch_size=32, validation_data=(X_test, y_test))"
   ]
  },
  {
   "cell_type": "code",
   "execution_count": 23,
   "id": "f087139c",
   "metadata": {},
   "outputs": [
    {
     "name": "stdout",
     "output_type": "stream",
     "text": [
      "48/48 [==============================] - 1s 3ms/step\n",
      "Accuracy :  78.0\n",
      "--------------------------------------------------\n",
      "Classification report : \n",
      "              precision    recall  f1-score   support\n",
      "\n",
      "           0       0.83      0.78      0.80       874\n",
      "           1       0.73      0.78      0.75       649\n",
      "\n",
      "    accuracy                           0.78      1523\n",
      "   macro avg       0.78      0.78      0.78      1523\n",
      "weighted avg       0.78      0.78      0.78      1523\n",
      "\n",
      "--------------------------------------------------\n",
      "Confusion matrix\n",
      "[[684 190]\n",
      " [145 504]]\n"
     ]
    }
   ],
   "source": [
    "# Model evaluation\n",
    "predictions = model_2.predict(X_test)\n",
    "prediction = []\n",
    "for i in predictions:\n",
    "    if i[0]>0.5:\n",
    "        prediction.append(1)\n",
    "    else:\n",
    "        prediction.append(0)\n",
    "    \n",
    "acc_2 = round(accuracy_score(y_test, prediction)*100, 2)\n",
    "print('Accuracy : ', acc_2)\n",
    "print('-'*50)\n",
    "print('Classification report : ')\n",
    "print(classification_report(y_test, prediction))\n",
    "print('-'*50)\n",
    "print('Confusion matrix')\n",
    "print(confusion_matrix(y_test, prediction))"
   ]
  },
  {
   "cell_type": "code",
   "execution_count": 24,
   "id": "d2e0d524",
   "metadata": {},
   "outputs": [
    {
     "name": "stdout",
     "output_type": "stream",
     "text": [
      "Model: \"sequential_2\"\n",
      "_________________________________________________________________\n",
      " Layer (type)                Output Shape              Param #   \n",
      "=================================================================\n",
      " embedding_2 (Embedding)     (None, 21, 128)           512000    \n",
      "                                                                 \n",
      " dropout_2 (Dropout)         (None, 21, 128)           0         \n",
      "                                                                 \n",
      " lstm_2 (LSTM)               (None, 128)               131584    \n",
      "                                                                 \n",
      " dense_3 (Dense)             (None, 100)               12900     \n",
      "                                                                 \n",
      " dense_4 (Dense)             (None, 1)                 101       \n",
      "                                                                 \n",
      "=================================================================\n",
      "Total params: 656,585\n",
      "Trainable params: 656,585\n",
      "Non-trainable params: 0\n",
      "_________________________________________________________________\n",
      "None\n"
     ]
    }
   ],
   "source": [
    "\n",
    "embed_dim = 128\n",
    "lstm_out = 128\n",
    "\n",
    "# Initializing model\n",
    "model_3 = Sequential()\n",
    "model_3.add(Embedding(max_features, embed_dim,input_length = X.shape[1]))\n",
    "model_3.add(Dropout(0.2))\n",
    "\n",
    "# input layer and LSTM layer with 64 neurons\n",
    "model_3.add(LSTM(lstm_out, dropout=0.2,activation = 'tanh'))\n",
    "model_3.add(Dense(100,activation = 'tanh'))\n",
    "# output layer with sigmoid activation\n",
    "model_3.add(Dense(1,activation='sigmoid'))\n",
    "\n",
    "model_3.compile(loss='binary_crossentropy',optimizer='rmsprop',metrics=['accuracy'])\n",
    "print(model_3.summary())"
   ]
  },
  {
   "cell_type": "code",
   "execution_count": 25,
   "id": "d66323bc",
   "metadata": {},
   "outputs": [
    {
     "name": "stdout",
     "output_type": "stream",
     "text": [
      "Epoch 1/10\n",
      "191/191 [==============================] - 6s 21ms/step - loss: 0.5268 - accuracy: 0.7460 - val_loss: 0.4654 - val_accuracy: 0.7761\n",
      "Epoch 2/10\n",
      "191/191 [==============================] - 4s 20ms/step - loss: 0.3873 - accuracy: 0.8317 - val_loss: 0.4498 - val_accuracy: 0.7932\n",
      "Epoch 3/10\n",
      "191/191 [==============================] - 4s 22ms/step - loss: 0.3534 - accuracy: 0.8514 - val_loss: 0.4549 - val_accuracy: 0.8011\n",
      "Epoch 4/10\n",
      "191/191 [==============================] - 3s 18ms/step - loss: 0.3289 - accuracy: 0.8677 - val_loss: 0.4773 - val_accuracy: 0.7905\n",
      "Epoch 5/10\n",
      "191/191 [==============================] - 3s 16ms/step - loss: 0.3074 - accuracy: 0.8788 - val_loss: 0.4946 - val_accuracy: 0.7827\n",
      "Epoch 6/10\n",
      "191/191 [==============================] - 4s 20ms/step - loss: 0.2863 - accuracy: 0.8893 - val_loss: 0.5244 - val_accuracy: 0.7853\n",
      "Epoch 7/10\n",
      "191/191 [==============================] - 4s 18ms/step - loss: 0.2674 - accuracy: 0.8952 - val_loss: 0.5202 - val_accuracy: 0.7649\n",
      "Epoch 8/10\n",
      "191/191 [==============================] - 3s 17ms/step - loss: 0.2481 - accuracy: 0.9064 - val_loss: 0.5398 - val_accuracy: 0.7590\n",
      "Epoch 9/10\n",
      "191/191 [==============================] - 3s 17ms/step - loss: 0.2281 - accuracy: 0.9123 - val_loss: 0.5641 - val_accuracy: 0.7656\n",
      "Epoch 10/10\n",
      "191/191 [==============================] - 3s 16ms/step - loss: 0.2115 - accuracy: 0.9204 - val_loss: 0.6482 - val_accuracy: 0.7505\n"
     ]
    }
   ],
   "source": [
    "# training the model on training dataset\n",
    "history3 = model_3.fit(X_train, y_train, epochs = 10, batch_size=32, validation_data=(X_test, y_test))"
   ]
  },
  {
   "cell_type": "code",
   "execution_count": 26,
   "id": "47b98cab",
   "metadata": {},
   "outputs": [
    {
     "name": "stdout",
     "output_type": "stream",
     "text": [
      "48/48 [==============================] - 0s 4ms/step\n",
      "Accuracy :  75.05\n",
      "--------------------------------------------------\n",
      "Classification report : \n",
      "              precision    recall  f1-score   support\n",
      "\n",
      "           0       0.79      0.77      0.78       874\n",
      "           1       0.70      0.73      0.71       649\n",
      "\n",
      "    accuracy                           0.75      1523\n",
      "   macro avg       0.75      0.75      0.75      1523\n",
      "weighted avg       0.75      0.75      0.75      1523\n",
      "\n",
      "--------------------------------------------------\n",
      "Confusion matrix\n",
      "[[671 203]\n",
      " [177 472]]\n"
     ]
    }
   ],
   "source": [
    "# Model evaluation\n",
    "predictions = model_3.predict(X_test)\n",
    "prediction = []\n",
    "for i in predictions:\n",
    "    if i[0]>0.5:\n",
    "        prediction.append(1)\n",
    "    else:\n",
    "        prediction.append(0)\n",
    "    \n",
    "acc_3 = round(accuracy_score(y_test, prediction)*100, 2)\n",
    "print('Accuracy : ', acc_3)\n",
    "print('-'*50)\n",
    "print('Classification report : ')\n",
    "print(classification_report(y_test, prediction))\n",
    "print('-'*50)\n",
    "print('Confusion matrix')\n",
    "print(confusion_matrix(y_test, prediction))"
   ]
  },
  {
   "cell_type": "code",
   "execution_count": 28,
   "id": "849d7ab5",
   "metadata": {},
   "outputs": [
    {
     "data": {
      "image/png": "[encoded data removed]",
      "text/plain": [
       "<Figure size 720x360 with 1 Axes>"
      ]
     },
     "metadata": {
      "needs_background": "light"
     },
     "output_type": "display_data"
    }
   ],
   "source": [
    "accuracy_scores = [acc_1, acc_2, acc_3]\n",
    "model_names = ['LSTM with 32 neurons', 'LSTM with 64 neurons \\nand one hidden layer \\nwith 32 neurons', 'LSTM with 128 neurons \\nand one hidden layer \\nwith 100 neurons']\n",
    "\n",
    "plt.figure(figsize=(10,5))\n",
    "plt.grid(b=True, which='major', axis='y')\n",
    "plt.title('Comparing Accuracy of DL Models',fontsize=15)\n",
    "colors=['red','orange','green']\n",
    "plt.xticks(fontsize=12)\n",
    "plt.yticks(fontsize=12)\n",
    "plt.ylabel('Accuracy',fontsize=12)\n",
    "plt.xlabel('Models',fontsize=12)\n",
    "bar = plt.bar(model_names,accuracy_scores,edgecolor='black',color=colors, linewidth=2, alpha =0.5)\n",
    "def autolabel(rects):\n",
    "    for rect in rects:\n",
    "        h = rect.get_height()\n",
    "        plt.text(rect.get_x()+rect.get_width()/2, 0.5*(h), '%f'%(h),\n",
    "                    ha='center', va='bottom',fontsize=15)\n",
    "autolabel(bar)"
   ]
  },
  {
   "cell_type": "markdown",
   "id": "1c31af04",
   "metadata": {},
   "source": [
    "For hypertuning parameters, we have focussed on the layers, neurons and the activation function. \n",
    "\n",
    "For second model, we have defined an architecture of one input layer of LSTM with 64 neurons and activation function as tanh, one hidden layer with 32 neurons and an output layer same as the model one.\n",
    "\n",
    "For third model, the architecture is same as second model but we have changed some parameters like, input layer with 128 neurons and hidden layer with 100 neurons. \n",
    "\n"
   ]
  },
  {
   "cell_type": "code",
   "execution_count": 30,
   "id": "71f6c264",
   "metadata": {},
   "outputs": [
    {
     "data": {
      "text/html": [
       "<div>\n",
       "<style scoped>\n",
       "    .dataframe tbody tr th:only-of-type {\n",
       "        vertical-align: middle;\n",
       "    }\n",
       "\n",
       "    .dataframe tbody tr th {\n",
       "        vertical-align: top;\n",
       "    }\n",
       "\n",
       "    .dataframe thead th {\n",
       "        text-align: right;\n",
       "    }\n",
       "</style>\n",
       "<table border=\"1\" class=\"dataframe\">\n",
       "  <thead>\n",
       "    <tr style=\"text-align: right;\">\n",
       "      <th></th>\n",
       "      <th>id</th>\n",
       "      <th>keyword</th>\n",
       "      <th>location</th>\n",
       "      <th>text</th>\n",
       "    </tr>\n",
       "  </thead>\n",
       "  <tbody>\n",
       "    <tr>\n",
       "      <th>0</th>\n",
       "      <td>0</td>\n",
       "      <td>NaN</td>\n",
       "      <td>NaN</td>\n",
       "      <td>happened terrible car crash</td>\n",
       "    </tr>\n",
       "    <tr>\n",
       "      <th>1</th>\n",
       "      <td>2</td>\n",
       "      <td>NaN</td>\n",
       "      <td>NaN</td>\n",
       "      <td>heard earthquake different city stay safe ever...</td>\n",
       "    </tr>\n",
       "    <tr>\n",
       "      <th>2</th>\n",
       "      <td>3</td>\n",
       "      <td>NaN</td>\n",
       "      <td>NaN</td>\n",
       "      <td>forest fire spot pond goose fleeing across str...</td>\n",
       "    </tr>\n",
       "    <tr>\n",
       "      <th>3</th>\n",
       "      <td>9</td>\n",
       "      <td>NaN</td>\n",
       "      <td>NaN</td>\n",
       "      <td>apocalypse lighting spokane wildfire</td>\n",
       "    </tr>\n",
       "    <tr>\n",
       "      <th>4</th>\n",
       "      <td>11</td>\n",
       "      <td>NaN</td>\n",
       "      <td>NaN</td>\n",
       "      <td>typhoon soudelor kill 28 china taiwan</td>\n",
       "    </tr>\n",
       "    <tr>\n",
       "      <th>...</th>\n",
       "      <td>...</td>\n",
       "      <td>...</td>\n",
       "      <td>...</td>\n",
       "      <td>...</td>\n",
       "    </tr>\n",
       "    <tr>\n",
       "      <th>3258</th>\n",
       "      <td>10861</td>\n",
       "      <td>NaN</td>\n",
       "      <td>NaN</td>\n",
       "      <td>earthquake safety los angeles ûò safety faste...</td>\n",
       "    </tr>\n",
       "    <tr>\n",
       "      <th>3259</th>\n",
       "      <td>10865</td>\n",
       "      <td>NaN</td>\n",
       "      <td>NaN</td>\n",
       "      <td>storm ri worse last hurricane cityamp3others h...</td>\n",
       "    </tr>\n",
       "    <tr>\n",
       "      <th>3260</th>\n",
       "      <td>10868</td>\n",
       "      <td>NaN</td>\n",
       "      <td>NaN</td>\n",
       "      <td>green line derailment chicago</td>\n",
       "    </tr>\n",
       "    <tr>\n",
       "      <th>3261</th>\n",
       "      <td>10874</td>\n",
       "      <td>NaN</td>\n",
       "      <td>NaN</td>\n",
       "      <td>meg issue hazardous weather outlook hwo</td>\n",
       "    </tr>\n",
       "    <tr>\n",
       "      <th>3262</th>\n",
       "      <td>10875</td>\n",
       "      <td>NaN</td>\n",
       "      <td>NaN</td>\n",
       "      <td>cityofcalgary activated municipal emergency pl...</td>\n",
       "    </tr>\n",
       "  </tbody>\n",
       "</table>\n",
       "<p>3263 rows × 4 columns</p>\n",
       "</div>"
      ],
      "text/plain": [
       "         id keyword location  \\\n",
       "0         0     NaN      NaN   \n",
       "1         2     NaN      NaN   \n",
       "2         3     NaN      NaN   \n",
       "3         9     NaN      NaN   \n",
       "4        11     NaN      NaN   \n",
       "...     ...     ...      ...   \n",
       "3258  10861     NaN      NaN   \n",
       "3259  10865     NaN      NaN   \n",
       "3260  10868     NaN      NaN   \n",
       "3261  10874     NaN      NaN   \n",
       "3262  10875     NaN      NaN   \n",
       "\n",
       "                                                   text  \n",
       "0                           happened terrible car crash  \n",
       "1     heard earthquake different city stay safe ever...  \n",
       "2     forest fire spot pond goose fleeing across str...  \n",
       "3                  apocalypse lighting spokane wildfire  \n",
       "4                 typhoon soudelor kill 28 china taiwan  \n",
       "...                                                 ...  \n",
       "3258  earthquake safety los angeles ûò safety faste...  \n",
       "3259  storm ri worse last hurricane cityamp3others h...  \n",
       "3260                      green line derailment chicago  \n",
       "3261            meg issue hazardous weather outlook hwo  \n",
       "3262  cityofcalgary activated municipal emergency pl...  \n",
       "\n",
       "[3263 rows x 4 columns]"
      ]
     },
     "execution_count": 30,
     "metadata": {},
     "output_type": "execute_result"
    }
   ],
   "source": [
    "preprocess_data(test)"
   ]
  },
  {
   "cell_type": "code",
   "execution_count": 38,
   "id": "b1add539",
   "metadata": {},
   "outputs": [
    {
     "name": "stdout",
     "output_type": "stream",
     "text": [
      "102/102 [==============================] - 0s 2ms/step\n"
     ]
    }
   ],
   "source": [
    "max_features=4000\n",
    "tokenizer=Tokenizer(num_words=max_features,split=' ')\n",
    "tokenizer.fit_on_texts(test['text'].values)\n",
    "X = tokenizer.texts_to_sequences(test['text'].values)\n",
    "X = pad_sequences(X)\n",
    "\n",
    "predictions_test = model_2.predict(X)\n",
    "prediction = []\n",
    "for i in predictions_test:\n",
    "    if i[0]>0.5:\n",
    "        prediction.append(1)\n",
    "    else:\n",
    "        prediction.append(0)\n",
    "        \n",
    "submission_1 = pd.DataFrame(data = test['id'])\n",
    "submission_1['target'] = prediction\n",
    "submission_1.to_csv('Submission_1.csv',index = False)"
   ]
  },
  {
   "cell_type": "markdown",
   "id": "9f7ab840",
   "metadata": {},
   "source": [
    "# Conclusion\n",
    "\n",
    "\n",
    "From the above chart we can conclude that the second model achieved by changing some parameters is giving the highest accuracy from all of the different models. The model with tanh function is fitted well on the train dataset than the relu function. Increasing layers and neurons and changing activation function helps in gaining a better accuracy. In future, we can try with other models like GRU or RNN etc and tune their parameters to get more better accuracy."
   ]
  },
  {
   "cell_type": "code",
   "execution_count": null,
   "id": "3f610d57",
   "metadata": {},
   "outputs": [],
   "source": []
  }
 ],
 "metadata": {
  "kernelspec": {
   "display_name": "Python 3 (ipykernel)",
   "language": "python",
   "name": "python3"
  },
  "language_info": {
   "codemirror_mode": {
    "name": "ipython",
    "version": 3
   },
   "file_extension": ".py",
   "mimetype": "text/x-python",
   "name": "python",
   "nbconvert_exporter": "python",
   "pygments_lexer": "ipython3",
   "version": "3.9.7"
  }
 },
 "nbformat": 4,
 "nbformat_minor": 5
}
